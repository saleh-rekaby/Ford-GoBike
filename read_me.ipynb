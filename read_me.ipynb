{
 "cells": [
  {
   "cell_type": "markdown",
   "metadata": {},
   "source": [
    "# Ford GoBike System Data Exploration\n",
    "## by Saleh Sadek Rekaby\n",
    "\n",
    "## Dataset\n",
    "\n",
    "The dataset that contains trip data of users in San Francisco Bay Area with about 183412 trips in the dataset,each with 16 feature, it was trimmed down to 169577 non-outlier, non-null values, Main feature, Trip duration, supporting features, the User Type, Age, and Gender.\n",
    "\n",
    "\n",
    "## Summary Findings\n",
    "\n",
    "I found that the trip duration has an inverse relation with age, the trip duration decreases with increased user age, Female has higher trip durations in average than males, The Subscribers seems to have low Trip Duration, in spite, they represent the majority of ford go bike Users, while customers tend to take longer trip durations.\n",
    "\n",
    "\n",
    "## Key insights for Presentation\n",
    "\n",
    "First, I want to show how the Trip Duration distributed, and how strong the supporting features the User type,Age, and Gender  are, Second, I want to show how much the supporting features affect the Trip Duration, using a scatter plot to show the relation between Age and Trip duration, with a violinplot, show the impact of user type on the Trip Duration, and the last feature Gender, as the effect of Gender is hiden in the Data, I used a heatmap, to show the complex relation between Gender and User type and their effect on Trip Duration, Finaly I show a scatterplot reveal the effect of user type of what Age on the Trip Duration. \n"
   ]
  }
 ],
 "metadata": {
  "kernelspec": {
   "display_name": "Python 3",
   "language": "python",
   "name": "python3"
  },
  "language_info": {
   "codemirror_mode": {
    "name": "ipython",
    "version": 3
   },
   "file_extension": ".py",
   "mimetype": "text/x-python",
   "name": "python",
   "nbconvert_exporter": "python",
   "pygments_lexer": "ipython3",
   "version": "3.7.6"
  }
 },
 "nbformat": 4,
 "nbformat_minor": 4
}
